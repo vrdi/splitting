{
 "cells": [
  {
   "cell_type": "code",
   "execution_count": 1,
   "metadata": {},
   "outputs": [],
   "source": [
    "# Imports\n",
    "import os\n",
    "from gerrychain import Graph, GeographicPartition, Partition, Election, accept\n",
    "from gerrychain.updaters import Tally, cut_edges\n",
    "import geopandas as gpd\n",
    "import numpy as np\n",
    "from gerrychain.random import random\n",
    "import copy\n",
    "import seaborn as sns\n",
    "\n",
    "from gerrychain import MarkovChain\n",
    "from gerrychain.constraints import single_flip_contiguous\n",
    "from gerrychain.proposals import recom, propose_random_flip\n",
    "from gerrychain.accept import always_accept\n",
    "from gerrychain.metrics import polsby_popper\n",
    "from gerrychain import constraints\n",
    "from gerrychain.constraints import no_vanishing_districts\n",
    "\n",
    "from collections import defaultdict, Counter\n",
    "import matplotlib.pyplot as plt\n",
    "import networkx as nx\n",
    "import pandas\n",
    "import math\n",
    "from itertools import combinations_with_replacement\n",
    "from functools import partial"
   ]
  },
  {
   "cell_type": "code",
   "execution_count": 2,
   "metadata": {},
   "outputs": [],
   "source": [
    "shapefile = \"https://github.com/mggg-states/PA-shapefiles/raw/master/PA/PA_VTD.zip\"\n",
    "\n",
    "df = gpd.read_file(shapefile)\n",
    "\n",
    "#For Pennsylvania\n",
    "county_col = \"COUNTYFP10\"\n",
    "pop_col = \"TOT_POP\"\n",
    "uid = \"GEOID10\"\n",
    "\n",
    "graph = Graph.from_geodataframe(df,ignore_errors=True)\n",
    "graph.add_data(df,list(df))\n",
    "graph = nx.relabel_nodes(graph, df[uid])"
   ]
  },
  {
   "cell_type": "code",
   "execution_count": 3,
   "metadata": {},
   "outputs": [],
   "source": [
    "def locality_splits_dict(partition, locality_col, df):\n",
    "    \"\"\"\n",
    "    From a partition, generates a dictionary of counter dictionaries.\n",
    "\n",
    "    :param partition: The partition for which a dictionary is being generated.\n",
    "\n",
    "    :return: A dictionary with keys as dictrict numbers and values as Counter() dictionaries. These counter dictionaries have pairs County_ID: NUM which counts the number of VTDs in the county in the district. \n",
    "    \"\"\"\n",
    "    localitydict = dict(graph.nodes(data=locality_col))\n",
    "    localities = (set(list(df[locality_col])))\n",
    "\n",
    "    locality_splits = {k:[] for k in localities}\n",
    "    locality_splits = {k:[localitydict[v] for v in d] for k,d in partition.assignment.parts.items()}\n",
    "    locality_splits = {k: Counter(v) for k,v in locality_splits.items()}\n",
    "    return locality_splits, localities"
   ]
  },
  {
   "cell_type": "code",
   "execution_count": 4,
   "metadata": {},
   "outputs": [],
   "source": [
    "def num_splits(partition, locality_col, df):\n",
    "    \"\"\"\n",
    "    Calculates the number of counties in 2 or more districts.\n",
    "\n",
    "    :param partition: The partition to be scored.\n",
    "\n",
    "    :return: The number of splittings in the partition\n",
    "    \"\"\"\n",
    "    locality_splits, localities = locality_splits_dict(partition, locality_col, df)\n",
    "\n",
    "    counter = 0\n",
    "    for district in locality_splits.keys():\n",
    "        counter += len(locality_splits[district])\n",
    "    return counter"
   ]
  },
  {
   "cell_type": "code",
   "execution_count": 5,
   "metadata": {},
   "outputs": [],
   "source": [
    "def cut_edges_in_district(partition, graph):\n",
    "    \"\"\"\n",
    "    Computes a ratio of the cut edges between two counties over the total number of cut edges.\n",
    "\n",
    "    :param partition: the partition to be scored.\n",
    "\n",
    "    return The ratio of cut edges between two counties over the total number of cut edges.\n",
    "    \"\"\"\n",
    "    countydict = dict(graph.nodes(data=county_col))\n",
    "\n",
    "    cut_edges_between = 0\n",
    "    cut_edge_set = partition[\"cut_edges\"]\n",
    "    for i in cut_edge_set:\n",
    "        vtd_1 = i[0]\n",
    "        vtd_2 = i[1]\n",
    "        county_1 = countydict.get(vtd_1)\n",
    "        county_2 = countydict.get(vtd_2)\n",
    "        if county_1 != county_2:\n",
    "            cut_edges_between += 1\n",
    "    num_cut_edges = len(cut_edge_set)\n",
    "    score = cut_edges_between/num_cut_edges\n",
    "    return score"
   ]
  },
  {
   "cell_type": "code",
   "execution_count": 6,
   "metadata": {},
   "outputs": [],
   "source": [
    "starting_partition = GeographicPartition(\n",
    "    graph,\n",
    "    assignment=\"2011_PLA_1\",\n",
    "    updaters={\n",
    "        \"polsby_popper\" : polsby_popper,\n",
    "        \"cut_edges\": cut_edges,\n",
    "        \"population\": Tally(pop_col, alias=\"population\"),\n",
    "    }\n",
    ")"
   ]
  },
  {
   "cell_type": "code",
   "execution_count": 9,
   "metadata": {},
   "outputs": [
    {
     "name": "stdout",
     "output_type": "stream",
     "text": [
      "108\n",
      "0.32952138924184665\n"
     ]
    }
   ],
   "source": [
    "print(num_splits(starting_partition, county_col, df))\n",
    "print(cut_edges_in_district(starting_partition, graph))"
   ]
  },
  {
   "cell_type": "code",
   "execution_count": null,
   "metadata": {},
   "outputs": [],
   "source": []
  }
 ],
 "metadata": {
  "kernelspec": {
   "display_name": "Python 3",
   "language": "python",
   "name": "python3"
  },
  "language_info": {
   "codemirror_mode": {
    "name": "ipython",
    "version": 3
   },
   "file_extension": ".py",
   "mimetype": "text/x-python",
   "name": "python",
   "nbconvert_exporter": "python",
   "pygments_lexer": "ipython3",
   "version": "3.6.8"
  }
 },
 "nbformat": 4,
 "nbformat_minor": 2
}
