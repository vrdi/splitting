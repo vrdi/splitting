{
 "cells": [
  {
   "cell_type": "code",
   "execution_count": 1,
   "metadata": {},
   "outputs": [],
   "source": [
    "# Imports\n",
    "import os\n",
    "from gerrychain import Graph, GeographicPartition, Partition, Election, accept\n",
    "from gerrychain.updaters import Tally, cut_edges\n",
    "import geopandas as gpd\n",
    "import numpy as np\n",
    "from gerrychain.random import random\n",
    "import copy\n",
    "import seaborn as sns\n",
    "\n",
    "from gerrychain import MarkovChain\n",
    "from gerrychain.constraints import single_flip_contiguous\n",
    "from gerrychain.proposals import recom, propose_random_flip\n",
    "from gerrychain.accept import always_accept\n",
    "from gerrychain.metrics import polsby_popper\n",
    "from gerrychain import constraints\n",
    "from gerrychain.constraints import no_vanishing_districts\n",
    "\n",
    "from collections import defaultdict, Counter\n",
    "import matplotlib.pyplot as plt\n",
    "import networkx as nx\n",
    "import pandas\n",
    "import math\n",
    "from itertools import combinations_with_replacement\n",
    "from functools import partial"
   ]
  },
  {
   "cell_type": "code",
   "execution_count": 2,
   "metadata": {},
   "outputs": [],
   "source": [
    "shapefile = \"https://github.com/mggg-states/PA-shapefiles/raw/master/PA/PA_VTD.zip\"\n",
    "\n",
    "df = gpd.read_file(shapefile)\n",
    "\n",
    "#For Pennsylvania\n",
    "county_col = \"COUNTYFP10\"\n",
    "pop_col = \"TOT_POP\"\n",
    "uid = \"GEOID10\"\n",
    "\n",
    "graph = Graph.from_geodataframe(df,ignore_errors=True)\n",
    "graph.add_data(df,list(df))\n",
    "graph = nx.relabel_nodes(graph, df[uid])"
   ]
  },
  {
   "cell_type": "code",
   "execution_count": 47,
   "metadata": {},
   "outputs": [],
   "source": [
    "def locality_splits_dict(partition, locality_col, df):\n",
    "    \"\"\"\n",
    "    From a partition, generates a dictionary of counter dictionaries.\n",
    "\n",
    "    Args: \n",
    "        partition: the partition for which a dictionary is being generated.\n",
    "\n",
    "    Returns: \n",
    "        A dictionary with keys as dictrict numbers and values as Counter() dictionaries.\n",
    "        These counter dictionaries have pairs County_ID: NUM which counts the number of\n",
    "        VTDs in the county in the district. \n",
    "    \"\"\"\n",
    "    localitydict = dict(graph.nodes(data=locality_col))\n",
    "    localities = (set(list(df[locality_col])))\n",
    "\n",
    "    locality_splits = {k:[] for k in localities}\n",
    "    locality_splits = {  k:[localitydict[v] for v in d] for k,d in partition.assignment.parts.items()   }\n",
    "    locality_splits = {k: Counter(v) for k,v in locality_splits.items()}\n",
    "    \n",
    "    return locality_splits, set(localities)"
   ]
  },
  {
   "cell_type": "code",
   "execution_count": 48,
   "metadata": {},
   "outputs": [],
   "source": [
    "def num_splits(partition, locality_col, df):\n",
    "    \"\"\"\n",
    "    Calculates the number of counties in 2 or more districts.\n",
    "\n",
    "    :param partition: the partition to be scored\n",
    "\n",
    "    return the number of splittings in the partition\n",
    "    \"\"\"\n",
    "    locality_splits, localities = locality_splits_dict(partition, locality_col)\n",
    "\n",
    "    counter = 0\n",
    "    for district in locality_splits.keys():\n",
    "        counter += len(locality_splits[district])\n",
    "    return counter"
   ]
  },
  {
   "cell_type": "code",
   "execution_count": 77,
   "metadata": {},
   "outputs": [],
   "source": [
    "def shannon_entropy(partition, locality_col, district, df):\n",
    "    locality_splits, localities = locality_splits_dict(partition, locality_col, df)\n",
    "    vtds = vtds_per_district(locality_splits)\n",
    "    print(locality_splits)\n",
    "    num_districts = len(locality_splits.keys())\n",
    "    print(num_districts)\n",
    "    total_vtds = 0\n",
    "    for k,v in locality_splits.items():\n",
    "        for x in list(v.values()):\n",
    "            total_vtds += x\n",
    "    \n",
    "    some_vtds = locality_splits[district][locality_col]\n",
    "\n",
    "    entropy = 0\n",
    "    for locality_j in localities:\n",
    "        inner_sum = 0\n",
    "        q = some_vtds / total_vtds\n",
    "        for district_i in range(num_districts):\n",
    "            print(district_i)\n",
    "            counter = locality_splits[district_i+1]\n",
    "            \n",
    "            print(counter)\n",
    "            print(counter.keys())\n",
    "            \n",
    "            if locality_j in list(counter.keys()):\n",
    "                intersection = counter[str(locality_j)]\n",
    "                print(intersection)\n",
    "                p = intersection / vtds[str(locality_j)]\n",
    "\n",
    "                if p != 0:\n",
    "                    inner_sum += p * math.log(1/p)\n",
    "            else: \n",
    "                continue\n",
    "        entropy += q * (inner_sum)\n",
    "        #print(1/q * (inner_sum-1))\n",
    "    return entropy"
   ]
  },
  {
   "cell_type": "code",
   "execution_count": 50,
   "metadata": {},
   "outputs": [],
   "source": [
    "def power_entropy(partition, locality_col, df, alpha):\n",
    "\n",
    "    locality_splits, localities = locality_splits_dict(partition, locality_col)\n",
    "    vtds = vtds_per_district(locality_splits)\n",
    "\n",
    "    total_vtds = 0\n",
    "    for k,v in locality_splits.items():\n",
    "        for x in list(v.values()):\n",
    "            total_vtds += x\n",
    "    \n",
    "    entropy = 0\n",
    "    for locality in localities:\n",
    "        inner_sum = 0\n",
    "        \n",
    "        q = some_vtds / total_vtds\n",
    "        for district_i in range(num_districts):\n",
    "            \n",
    "            \n",
    "            counter = locality_splits[district_i+1]\n",
    "            intersection = counter[str(locality_j)]\n",
    "            p = intersection / vtds[str(locality_j)]\n",
    "\n",
    "            inner_sum += p ** (1-alpha)\n",
    "        entropy += 1/q * (inner_sum-1)\n",
    "        #print(1/q * (inner_sum-1))\n",
    "    return entropy"
   ]
  },
  {
   "cell_type": "code",
   "execution_count": 31,
   "metadata": {},
   "outputs": [],
   "source": [
    "\n",
    "starting_partition = GeographicPartition(\n",
    "    graph,\n",
    "    assignment=\"2011_PLA_1\",\n",
    "    updaters={\n",
    "        \"polsby_popper\" : polsby_popper,\n",
    "        \"cut_edges\": cut_edges,\n",
    "        \"population\": Tally(pop_col, alias=\"population\"),\n",
    "\n",
    "    }\n",
    ")"
   ]
  },
  {
   "cell_type": "code",
   "execution_count": 32,
   "metadata": {},
   "outputs": [
    {
     "data": {
      "text/plain": [
       "108"
      ]
     },
     "execution_count": 32,
     "metadata": {},
     "output_type": "execute_result"
    }
   ],
   "source": [
    "num_splits(starting_partition, county_col)"
   ]
  },
  {
   "cell_type": "code",
   "execution_count": 78,
   "metadata": {},
   "outputs": [
    {
     "name": "stdout",
     "output_type": "stream",
     "text": [
      "{3: Counter({'085': 97, '049': 97, '019': 81, '005': 66, '073': 59, '039': 53, '031': 16}), 10: Counter({'081': 79, '015': 53, '069': 43, '115': 37, '127': 36, '117': 32, '119': 27, '089': 24, '099': 22, '109': 22, '087': 21, '097': 19, '103': 18, '067': 16, '113': 12, '061': 1}), 9: Counter({'051': 94, '013': 91, '055': 73, '125': 61, '063': 55, '021': 32, '009': 31, '059': 21, '129': 15, '111': 14, '061': 14, '057': 13, '005': 1}), 5: Counter({'027': 85, '033': 65, '049': 49, '065': 49, '121': 46, '083': 34, '105': 32, '035': 31, '061': 29, '123': 28, '047': 23, '031': 20, '023': 9, '053': 8, '117': 4, '081': 1}), 15: Counter({'077': 149, '095': 76, '043': 38, '075': 29, '011': 25}), 6: Counter({'029': 149, '011': 75, '091': 60, '075': 26}), 11: Counter({'079': 127, '043': 89, '097': 73, '041': 49, '037': 36, '131': 28, '025': 17, '093': 14, '099': 7}), 8: Counter({'017': 299, '091': 38}), 4: Counter({'133': 142, '041': 57, '001': 45, '043': 27}), 18: Counter({'003': 250, '129': 190, '125': 129, '059': 22}), 12: Counter({'003': 223, '007': 124, '021': 118, '129': 76, '111': 38, '073': 18}), 17: Counter({'069': 113, '107': 103, '095': 73, '079': 61, '025': 36, '089': 26}), 7: Counter({'045': 255, '091': 72, '029': 38, '011': 30, '071': 9}), 16: Counter({'071': 222, '011': 64, '029': 36}), 14: Counter({'003': 848, '129': 19}), 13: Counter({'101': 340, '091': 208}), 2: Counter({'101': 782, '091': 46}), 1: Counter({'101': 565, '045': 153})}\n",
      "18\n",
      "0\n",
      "dict_keys(['101', '045'])\n",
      "1\n",
      "dict_keys(['101', '091'])\n",
      "2\n",
      "dict_keys(['019', '085', '039', '005', '049', '073', '031'])\n",
      "3\n",
      "dict_keys(['133', '041', '043', '001'])\n",
      "4\n",
      "dict_keys(['053', '049', '033', '123', '105', '061', '047', '027', '065', '121', '083', '031', '035', '023', '117', '081'])\n",
      "5\n",
      "dict_keys(['091', '029', '075', '011'])\n",
      "6\n",
      "dict_keys(['091', '045', '011', '071', '029'])\n",
      "7\n",
      "dict_keys(['017', '091'])\n",
      "8\n",
      "dict_keys(['013', '057', '111', '125', '063', '009', '021', '061', '055', '005', '051', '059', '129'])\n",
      "Counter({'051': 94, '013': 91, '055': 73, '125': 61, '063': 55, '021': 32, '009': 31, '059': 21, '129': 15, '111': 14, '061': 14, '057': 13, '005': 1})\n",
      "61\n"
     ]
    },
    {
     "ename": "KeyError",
     "evalue": "'125'",
     "output_type": "error",
     "traceback": [
      "\u001b[1;31m---------------------------------------------------------------------------\u001b[0m",
      "\u001b[1;31mKeyError\u001b[0m                                  Traceback (most recent call last)",
      "\u001b[1;32m<ipython-input-78-d6e9bcc5bc49>\u001b[0m in \u001b[0;36m<module>\u001b[1;34m\u001b[0m\n\u001b[1;32m----> 1\u001b[1;33m \u001b[0mshannon_entropy\u001b[0m\u001b[1;33m(\u001b[0m\u001b[0mstarting_partition\u001b[0m\u001b[1;33m,\u001b[0m \u001b[0mcounty_col\u001b[0m\u001b[1;33m,\u001b[0m \u001b[1;36m3\u001b[0m\u001b[1;33m,\u001b[0m \u001b[0mdf\u001b[0m\u001b[1;33m)\u001b[0m\u001b[1;33m\u001b[0m\u001b[1;33m\u001b[0m\u001b[0m\n\u001b[0m",
      "\u001b[1;32m<ipython-input-77-88890f9b3e0e>\u001b[0m in \u001b[0;36mshannon_entropy\u001b[1;34m(partition, locality_col, district, df)\u001b[0m\n\u001b[0;32m     25\u001b[0m                 \u001b[0mintersection\u001b[0m \u001b[1;33m=\u001b[0m \u001b[0mcounter\u001b[0m\u001b[1;33m[\u001b[0m\u001b[0mstr\u001b[0m\u001b[1;33m(\u001b[0m\u001b[0mlocality_j\u001b[0m\u001b[1;33m)\u001b[0m\u001b[1;33m]\u001b[0m\u001b[1;33m\u001b[0m\u001b[1;33m\u001b[0m\u001b[0m\n\u001b[0;32m     26\u001b[0m                 \u001b[0mprint\u001b[0m\u001b[1;33m(\u001b[0m\u001b[0mintersection\u001b[0m\u001b[1;33m)\u001b[0m\u001b[1;33m\u001b[0m\u001b[1;33m\u001b[0m\u001b[0m\n\u001b[1;32m---> 27\u001b[1;33m                 \u001b[0mp\u001b[0m \u001b[1;33m=\u001b[0m \u001b[0mintersection\u001b[0m \u001b[1;33m/\u001b[0m \u001b[0mvtds\u001b[0m\u001b[1;33m[\u001b[0m\u001b[0mstr\u001b[0m\u001b[1;33m(\u001b[0m\u001b[0mlocality_j\u001b[0m\u001b[1;33m)\u001b[0m\u001b[1;33m]\u001b[0m\u001b[1;33m\u001b[0m\u001b[1;33m\u001b[0m\u001b[0m\n\u001b[0m\u001b[0;32m     28\u001b[0m \u001b[1;33m\u001b[0m\u001b[0m\n\u001b[0;32m     29\u001b[0m                 \u001b[1;32mif\u001b[0m \u001b[0mp\u001b[0m \u001b[1;33m!=\u001b[0m \u001b[1;36m0\u001b[0m\u001b[1;33m:\u001b[0m\u001b[1;33m\u001b[0m\u001b[1;33m\u001b[0m\u001b[0m\n",
      "\u001b[1;31mKeyError\u001b[0m: '125'"
     ]
    }
   ],
   "source": [
    "shannon_entropy(starting_partition, county_col, 3, df)\n"
   ]
  },
  {
   "cell_type": "code",
   "execution_count": 53,
   "metadata": {},
   "outputs": [
    {
     "name": "stdout",
     "output_type": "stream",
     "text": [
      "{'125', '059', '093', '015', '003', '091', '109', '029', '063', '017', '049', '067', '117', '055', '047', '065', '051', '111', '083', '119', '035', '007', '081', '133', '075', '077', '013', '037', '021', '031', '105', '025', '069', '089', '071', '121', '011', '097', '079', '099', '019', '045', '103', '041', '123', '095', '023', '039', '113', '061', '115', '033', '053', '057', '087', '043', '027', '131', '085', '073', '127', '101', '129', '001', '009', '005', '107'}\n",
      "dict_keys([3, 10, 9, 5, 15, 6, 11, 8, 4, 18, 12, 17, 7, 16, 14, 13, 2, 1])\n"
     ]
    }
   ],
   "source": [
    "locality_splits, localities = locality_splits_dict(starting_partition, county_col, df)\n",
    "print(localities)\n",
    "print(locality_splits.keys())"
   ]
  },
  {
   "cell_type": "code",
   "execution_count": 79,
   "metadata": {},
   "outputs": [
    {
     "ename": "IndentationError",
     "evalue": "expected an indented block (<ipython-input-79-8dd75244c0cc>, line 6)",
     "output_type": "error",
     "traceback": [
      "\u001b[1;36m  File \u001b[1;32m\"<ipython-input-79-8dd75244c0cc>\"\u001b[1;36m, line \u001b[1;32m6\u001b[0m\n\u001b[1;33m    def power_entropy(partition, locality_col, district, alpha):\u001b[0m\n\u001b[1;37m                                                                ^\u001b[0m\n\u001b[1;31mIndentationError\u001b[0m\u001b[1;31m:\u001b[0m expected an indented block\n"
     ]
    }
   ],
   "source": [
    "for district, locality_dict in locality_splits.items():\n",
    "    inner_sum = 0\n",
    "    for locality in locality_dict.keys():\n",
    "        \n",
    "        \n",
    "def power_entropy(partition, locality_col, district, alpha):\n",
    "\n",
    "    locality_splits, localities = locality_splits_dict(partition, locality_col)\n",
    "    vtds = vtds_per_district(locality_splits)\n",
    "    \n",
    "    for district, locality_dict in locality_splits.items():\n",
    "        inner_sum = 0\n",
    "        for locality in locality_dict.keys():\n",
    "\n",
    "    return entropy"
   ]
  },
  {
   "cell_type": "code",
   "execution_count": 87,
   "metadata": {},
   "outputs": [],
   "source": [
    "def district_splits_dict(locality_splits, localities):\n",
    "    '''\n",
    "    Args:\n",
    "        county_splits: a dictionary with keys as district numbers and values Counter() dictionaries\n",
    "                        these counter dictionaries have pairs COUNTY_ID : NUM which counts the number of VTDS\n",
    "                        in the county in the district \n",
    "        \n",
    "    Returns:\n",
    "       district_splits: a dictionary that has as keys the county id and returns as values the\n",
    "    districts in that county. \n",
    "    '''\n",
    "    district_splits = {k:[] for k in localities}\n",
    "    \n",
    "    for locality in localities:\n",
    "        districts = {}\n",
    "        for district in locality_splits.keys():\n",
    "            if locality in locality_splits[district].keys():\n",
    "                district_splits[locality].append(district)\n",
    "    return district_splits   \n",
    "\n",
    "def pieces_allowed(localities, graph, locality_col, to_add=1):\n",
    "    district_splits ={}\n",
    "    \n",
    "    for locality in localities:\n",
    "        sg=graph.subgraph(n for n, v in graph.nodes(data=True) if v[locality_col]==locality)\n",
    "        pop = 0\n",
    "        \n",
    "        for n in sg.nodes():\n",
    "            pop += sg.node[n][\"TOT_POP\"]\n",
    "        \n",
    "        district_splits[locality] = math.ceil(pop/(totpop/num_districts)) + to_add\n",
    "    return district_splits\n",
    "\n",
    "def pennsylvania_fouls(partition, graph, locality_col, to_add=1):\n",
    "    locality_splits, localities = locality_splits_dict(partition, locality_col, df)\n",
    "    district_splits = district_splits_dict(locality_splits, localities)\n",
    "    pieces = pieces_allowed(localities, graph, locality_col, to_add)\n",
    "    #vtds = vtds_per_district(locality_splits)\n",
    "\n",
    "    too_many = 0\n",
    "    for locality in localities:\n",
    "        if len(district_splits[locality]) > pieces[locality]:\n",
    "            too_many += 1\n",
    "    \n",
    "    return too_many"
   ]
  },
  {
   "cell_type": "code",
   "execution_count": 88,
   "metadata": {},
   "outputs": [
    {
     "ename": "NameError",
     "evalue": "name 'counties' is not defined",
     "output_type": "error",
     "traceback": [
      "\u001b[1;31m---------------------------------------------------------------------------\u001b[0m",
      "\u001b[1;31mNameError\u001b[0m                                 Traceback (most recent call last)",
      "\u001b[1;32m<ipython-input-88-569f807a9611>\u001b[0m in \u001b[0;36m<module>\u001b[1;34m\u001b[0m\n\u001b[1;32m----> 1\u001b[1;33m \u001b[0mpennsylvania_fouls\u001b[0m\u001b[1;33m(\u001b[0m\u001b[0mstarting_partition\u001b[0m\u001b[1;33m,\u001b[0m \u001b[0mgraph\u001b[0m\u001b[1;33m,\u001b[0m \u001b[0mcounty_col\u001b[0m\u001b[1;33m)\u001b[0m\u001b[1;33m\u001b[0m\u001b[1;33m\u001b[0m\u001b[0m\n\u001b[0m",
      "\u001b[1;32m<ipython-input-87-563fe6845edf>\u001b[0m in \u001b[0;36mpennsylvania_fouls\u001b[1;34m(partition, graph, locality_col, to_add)\u001b[0m\n\u001b[0;32m     35\u001b[0m     \u001b[0mlocality_splits\u001b[0m\u001b[1;33m,\u001b[0m \u001b[0mlocalities\u001b[0m \u001b[1;33m=\u001b[0m \u001b[0mlocality_splits_dict\u001b[0m\u001b[1;33m(\u001b[0m\u001b[0mpartition\u001b[0m\u001b[1;33m,\u001b[0m \u001b[0mlocality_col\u001b[0m\u001b[1;33m,\u001b[0m \u001b[0mdf\u001b[0m\u001b[1;33m)\u001b[0m\u001b[1;33m\u001b[0m\u001b[1;33m\u001b[0m\u001b[0m\n\u001b[0;32m     36\u001b[0m     \u001b[0mdistrict_splits\u001b[0m \u001b[1;33m=\u001b[0m \u001b[0mdistrict_splits_dict\u001b[0m\u001b[1;33m(\u001b[0m\u001b[0mlocality_splits\u001b[0m\u001b[1;33m,\u001b[0m \u001b[0mlocalities\u001b[0m\u001b[1;33m)\u001b[0m\u001b[1;33m\u001b[0m\u001b[1;33m\u001b[0m\u001b[0m\n\u001b[1;32m---> 37\u001b[1;33m     \u001b[0mpieces\u001b[0m \u001b[1;33m=\u001b[0m \u001b[0mpieces_allowed\u001b[0m\u001b[1;33m(\u001b[0m\u001b[0mlocalities\u001b[0m\u001b[1;33m,\u001b[0m \u001b[0mgraph\u001b[0m\u001b[1;33m,\u001b[0m \u001b[0mto_add\u001b[0m\u001b[1;33m)\u001b[0m\u001b[1;33m\u001b[0m\u001b[1;33m\u001b[0m\u001b[0m\n\u001b[0m\u001b[0;32m     38\u001b[0m     \u001b[1;31m#vtds = vtds_per_district(locality_splits)\u001b[0m\u001b[1;33m\u001b[0m\u001b[1;33m\u001b[0m\u001b[1;33m\u001b[0m\u001b[0m\n\u001b[0;32m     39\u001b[0m \u001b[1;33m\u001b[0m\u001b[0m\n",
      "\u001b[1;32m<ipython-input-87-563fe6845edf>\u001b[0m in \u001b[0;36mpieces_allowed\u001b[1;34m(localities, graph, to_add)\u001b[0m\n\u001b[0;32m     22\u001b[0m     \u001b[0mdistrict_splits\u001b[0m \u001b[1;33m=\u001b[0m\u001b[1;33m{\u001b[0m\u001b[1;33m}\u001b[0m\u001b[1;33m\u001b[0m\u001b[1;33m\u001b[0m\u001b[0m\n\u001b[0;32m     23\u001b[0m \u001b[1;33m\u001b[0m\u001b[0m\n\u001b[1;32m---> 24\u001b[1;33m     \u001b[1;32mfor\u001b[0m \u001b[0mcounty\u001b[0m \u001b[1;32min\u001b[0m \u001b[0mcounties\u001b[0m\u001b[1;33m:\u001b[0m\u001b[1;33m\u001b[0m\u001b[1;33m\u001b[0m\u001b[0m\n\u001b[0m\u001b[0;32m     25\u001b[0m         \u001b[0msg\u001b[0m\u001b[1;33m=\u001b[0m\u001b[0mgraph\u001b[0m\u001b[1;33m.\u001b[0m\u001b[0msubgraph\u001b[0m\u001b[1;33m(\u001b[0m\u001b[0mn\u001b[0m \u001b[1;32mfor\u001b[0m \u001b[0mn\u001b[0m\u001b[1;33m,\u001b[0m \u001b[0mv\u001b[0m \u001b[1;32min\u001b[0m \u001b[0mgraph\u001b[0m\u001b[1;33m.\u001b[0m\u001b[0mnodes\u001b[0m\u001b[1;33m(\u001b[0m\u001b[0mdata\u001b[0m\u001b[1;33m=\u001b[0m\u001b[1;32mTrue\u001b[0m\u001b[1;33m)\u001b[0m \u001b[1;32mif\u001b[0m \u001b[0mv\u001b[0m\u001b[1;33m[\u001b[0m\u001b[0mcounty_col\u001b[0m\u001b[1;33m]\u001b[0m\u001b[1;33m==\u001b[0m\u001b[0mcounty\u001b[0m\u001b[1;33m)\u001b[0m\u001b[1;33m\u001b[0m\u001b[1;33m\u001b[0m\u001b[0m\n\u001b[0;32m     26\u001b[0m         \u001b[0mpop\u001b[0m \u001b[1;33m=\u001b[0m \u001b[1;36m0\u001b[0m\u001b[1;33m\u001b[0m\u001b[1;33m\u001b[0m\u001b[0m\n",
      "\u001b[1;31mNameError\u001b[0m: name 'counties' is not defined"
     ]
    }
   ],
   "source": [
    "pennsylvania_fouls(starting_partition, graph, county_col)"
   ]
  },
  {
   "cell_type": "code",
   "execution_count": null,
   "metadata": {},
   "outputs": [],
   "source": []
  }
 ],
 "metadata": {
  "kernelspec": {
   "display_name": "Python 3",
   "language": "python",
   "name": "python3"
  },
  "language_info": {
   "codemirror_mode": {
    "name": "ipython",
    "version": 3
   },
   "file_extension": ".py",
   "mimetype": "text/x-python",
   "name": "python",
   "nbconvert_exporter": "python",
   "pygments_lexer": "ipython3",
   "version": "3.6.8"
  }
 },
 "nbformat": 4,
 "nbformat_minor": 2
}
