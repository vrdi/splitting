{
 "cells": [
  {
   "cell_type": "code",
   "execution_count": 28,
   "metadata": {},
   "outputs": [],
   "source": [
    "# Imports\n",
    "\n",
    "import os\n",
    "\n",
    "from gerrychain import Graph, GeographicPartition, Partition, Election\n",
    "from gerrychain.updaters import Tally, cut_edges\n",
    "import geopandas as gpd\n",
    "import numpy as np\n",
    "from gerrychain.random import random\n",
    "import copy\n",
    "\n",
    "from gerrychain import MarkovChain\n",
    "from gerrychain.constraints import single_flip_contiguous\n",
    "from gerrychain.proposals import propose_random_flip\n",
    "from gerrychain.accept import always_accept\n",
    "from gerrychain.metrics import polsby_popper\n",
    "from gerrychain import constraints\n",
    "from gerrychain.constraints import no_vanishing_districts\n",
    "\n",
    "from collections import defaultdict, Counter\n",
    "\n",
    "import matplotlib.pyplot as plt\n",
    "\n",
    "import networkx as nx\n",
    "\n",
    "import pandas\n",
    "\n",
    "import math\n",
    "\n",
    "from functools import partial\n",
    "\n",
    "from itertools import combinations_with_replacement\n"
   ]
  },
  {
   "cell_type": "code",
   "execution_count": 29,
   "metadata": {},
   "outputs": [],
   "source": [
    "#set up\n",
    "county_col = \"COUNTY\"\n",
    "pop_col = \"TOT_POP\""
   ]
  },
  {
   "cell_type": "markdown",
   "metadata": {},
   "source": [
    "## Make a 16x16 grid graph and make quadrants into counties"
   ]
  },
  {
   "cell_type": "code",
   "execution_count": 30,
   "metadata": {},
   "outputs": [
    {
     "name": "stdout",
     "output_type": "stream",
     "text": [
      "These are the four counties:\n"
     ]
    },
    {
     "data": {
      "image/png": "[encoded data removed]",
      "text/plain": [
       "<Figure size 432x288 with 1 Axes>"
      ]
     },
     "metadata": {},
     "output_type": "display_data"
    }
   ],
   "source": [
    "\n",
    "graph = nx.grid_graph([16,16])\n",
    "\n",
    "\n",
    "for n in graph.nodes():\n",
    "    graph.node[n][\"TOT_POP\"] = 1\n",
    "    #assign to counties in quadrants\n",
    "    if (n[0] < 8) and (n[1] < 8):\n",
    "        graph.node[n][county_col] = 0\n",
    "    if (n[0] < 8) and (n[1] >= 8):\n",
    "        graph.node[n][county_col] = 1\n",
    "    if (n[0] >= 8) and (n[1] < 8):\n",
    "        graph.node[n][county_col] = 2\n",
    "    if (n[0] >= 8) and (n[1] >= 8):\n",
    "        graph.node[n][county_col] = 3\n",
    "\n",
    "print(\"These are the four counties:\")\n",
    "\n",
    "plt.figure()\n",
    "nx.draw(\n",
    "    graph,\n",
    "    pos={x: x for x in graph.nodes()},\n",
    "    node_color=[graph.node[x][county_col] for x in graph.nodes()],\n",
    "    node_size=150,\n",
    "    node_shape=\"s\",\n",
    "    cmap=\"Dark2\"\n",
    ")\n",
    "\n",
    "\n",
    "\n"
   ]
  },
  {
   "cell_type": "markdown",
   "metadata": {},
   "source": [
    "## Consider four different districtings into two districts"
   ]
  },
  {
   "cell_type": "markdown",
   "metadata": {},
   "source": [
    "### 1. Counties nested inside districts\n",
    "Attribute \"district\" used for district number"
   ]
  },
  {
   "cell_type": "code",
   "execution_count": 31,
   "metadata": {},
   "outputs": [
    {
     "name": "stdout",
     "output_type": "stream",
     "text": [
      "The two districts are: \n"
     ]
    },
    {
     "data": {
      "image/png": "[encoded data removed]",
      "text/plain": [
       "<Figure size 432x288 with 1 Axes>"
      ]
     },
     "metadata": {},
     "output_type": "display_data"
    }
   ],
   "source": [
    "district_matrix = np.array(\n",
    "    [\n",
    "        [0,0,0,0,0,0,0,0,1,1,1,1,1,1,1,1],\n",
    "        [0,0,0,0,0,0,0,0,1,1,1,1,1,1,1,1],\n",
    "        [0,0,0,0,0,0,0,0,1,1,1,1,1,1,1,1],\n",
    "        [0,0,0,0,0,0,0,0,1,1,1,1,1,1,1,1],\n",
    "        [0,0,0,0,0,0,0,0,1,1,1,1,1,1,1,1],\n",
    "        [0,0,0,0,0,0,0,0,1,1,1,1,1,1,1,1],\n",
    "        [0,0,0,0,0,0,0,0,1,1,1,1,1,1,1,1],\n",
    "        [0,0,0,0,0,0,0,0,1,1,1,1,1,1,1,1],\n",
    "        [0,0,0,0,0,0,0,0,1,1,1,1,1,1,1,1],\n",
    "        [0,0,0,0,0,0,0,0,1,1,1,1,1,1,1,1],\n",
    "        [0,0,0,0,0,0,0,0,1,1,1,1,1,1,1,1],\n",
    "        [0,0,0,0,0,0,0,0,1,1,1,1,1,1,1,1],\n",
    "        [0,0,0,0,0,0,0,0,1,1,1,1,1,1,1,1],\n",
    "        [0,0,0,0,0,0,0,0,1,1,1,1,1,1,1,1],\n",
    "        [0,0,0,0,0,0,0,0,1,1,1,1,1,1,1,1],\n",
    "        [0,0,0,0,0,0,0,0,1,1,1,1,1,1,1,1],\n",
    "        \n",
    "    ]\n",
    ")\n",
    "\n",
    "assignment1 = {}\n",
    "for n in graph.nodes():\n",
    "    assignment1[n] = np.transpose(district_matrix)[n[0]][n[1]]\n",
    "    \n",
    "print(\"The two districts are: \")    \n",
    "plt.figure()\n",
    "nx.draw(\n",
    "    graph,\n",
    "    pos={x: x for x in graph.nodes()},\n",
    "    node_color=[assignment1[x] for x in graph.nodes()],\n",
    "    node_size=150,\n",
    "    node_shape=\"s\",\n",
    "    cmap=\"brg\"\n",
    ")\n",
    "\n",
    "partition1 = Partition(graph, assignment=assignment1)\n",
    "        \n",
    "##...COMPUTE SPLITTING SCORE HERE..."
   ]
  },
  {
   "cell_type": "markdown",
   "metadata": {},
   "source": [
    "### 2. Each district intersects all the counties "
   ]
  },
  {
   "cell_type": "code",
   "execution_count": 32,
   "metadata": {},
   "outputs": [
    {
     "name": "stdout",
     "output_type": "stream",
     "text": [
      "The two districts are: \n"
     ]
    },
    {
     "data": {
      "image/png": "[encoded data removed]",
      "text/plain": [
       "<Figure size 432x288 with 1 Axes>"
      ]
     },
     "metadata": {},
     "output_type": "display_data"
    }
   ],
   "source": [
    "district_matrix = np.array(\n",
    "    [\n",
    "        [0,0,0,0,1,1,1,1,1,1,1,1,1,1,1,1],\n",
    "        [0,0,0,0,1,1,1,1,1,1,1,1,1,1,1,1],\n",
    "        [0,0,0,0,0,0,0,0,1,1,1,1,1,1,1,1],\n",
    "        [0,0,0,0,0,0,0,0,1,1,1,1,1,1,1,1],\n",
    "        [0,0,0,0,0,0,0,0,1,1,1,1,1,1,1,1],\n",
    "        [0,0,0,0,0,0,0,0,1,1,1,1,1,1,1,1],\n",
    "        [0,0,0,0,0,0,0,0,0,0,0,0,1,1,1,1],\n",
    "        [0,0,0,0,0,0,0,0,0,0,0,0,1,1,1,1],\n",
    "        [0,0,0,0,0,0,0,0,0,0,0,0,1,1,1,1],\n",
    "        [0,0,0,0,0,0,0,0,0,0,0,0,1,1,1,1],\n",
    "        [0,0,0,0,0,0,0,0,1,1,1,1,1,1,1,1],\n",
    "        [0,0,0,0,0,0,0,0,1,1,1,1,1,1,1,1],\n",
    "        [0,0,0,0,0,0,0,0,1,1,1,1,1,1,1,1],\n",
    "        [0,0,0,0,0,0,0,0,1,1,1,1,1,1,1,1],\n",
    "        [0,0,0,0,1,1,1,1,1,1,1,1,1,1,1,1],\n",
    "        [0,0,0,0,1,1,1,1,1,1,1,1,1,1,1,1],\n",
    "        \n",
    "    ]\n",
    ")\n",
    "\n",
    "assignment1 = {}\n",
    "for n in graph.nodes():\n",
    "    assignment1[n] = np.transpose(district_matrix)[n[0]][n[1]]\n",
    "    \n",
    "print(\"The two districts are: \")    \n",
    "plt.figure()\n",
    "nx.draw(\n",
    "    graph,\n",
    "    pos={x: x for x in graph.nodes()},\n",
    "    node_color=[assignment1[x] for x in graph.nodes()],\n",
    "    node_size=150,\n",
    "    node_shape=\"s\",\n",
    "    cmap=\"brg\"\n",
    ")\n",
    "\n",
    "partition2 = Partition(graph, assignment=assignment1)\n",
    "        \n",
    "##...COMPUTE SPLITTING SCORE HERE..."
   ]
  },
  {
   "cell_type": "markdown",
   "metadata": {},
   "source": [
    "### 3. Each district intersects all the counties in snaky ways"
   ]
  },
  {
   "cell_type": "code",
   "execution_count": 20,
   "metadata": {},
   "outputs": [
    {
     "name": "stdout",
     "output_type": "stream",
     "text": [
      "The two districts are: \n"
     ]
    },
    {
     "data": {
      "image/png": "[encoded data removed]",
      "text/plain": [
       "<Figure size 432x288 with 1 Axes>"
      ]
     },
     "metadata": {},
     "output_type": "display_data"
    }
   ],
   "source": [
    "district_matrix = np.array(\n",
    "    [\n",
    "        [0,0,0,0,0,0,0,0,1,1,1,1,1,1,1,1],\n",
    "        [0,0,0,0,0,0,0,0,1,1,1,1,1,1,1,1],\n",
    "        [0,0,0,0,1,1,1,1,1,1,1,0,1,1,1,1],\n",
    "        [0,0,0,0,1,0,0,0,1,1,1,0,1,1,1,1],\n",
    "        [0,0,0,0,1,0,0,0,1,1,1,0,1,1,1,1],\n",
    "        [0,0,0,0,1,0,0,0,1,1,1,0,1,1,1,1],\n",
    "        [0,0,0,0,1,0,0,0,0,0,0,0,1,1,1,1],\n",
    "        [0,0,0,0,0,0,0,0,1,1,1,1,1,1,1,1],\n",
    "        [0,0,0,0,0,0,0,0,1,1,1,1,1,1,1,1],\n",
    "        [0,0,0,0,1,0,0,0,0,0,0,0,1,1,1,1],\n",
    "        [0,0,0,0,1,0,0,0,1,1,1,0,1,1,1,1],\n",
    "        [0,0,0,0,1,0,0,0,1,1,1,0,1,1,1,1],\n",
    "        [0,0,0,0,1,0,0,0,1,1,1,0,1,1,1,1],\n",
    "        [0,0,0,0,1,1,1,1,1,1,1,0,1,1,1,1],\n",
    "        [0,0,0,0,0,0,0,0,1,1,1,1,1,1,1,1],\n",
    "        [0,0,0,0,0,0,0,0,1,1,1,1,1,1,1,1],\n",
    "        \n",
    "    ]\n",
    ")\n",
    "\n",
    "assignment1 = {}\n",
    "for n in graph.nodes():\n",
    "    assignment1[n] = np.transpose(district_matrix)[n[0]][n[1]]\n",
    "    \n",
    "print(\"The two districts are: \")    \n",
    "plt.figure()\n",
    "nx.draw(\n",
    "    graph,\n",
    "    pos={x: x for x in graph.nodes()},\n",
    "    node_color=[assignment1[x] for x in graph.nodes()],\n",
    "    node_size=150,\n",
    "    node_shape=\"s\",\n",
    "    cmap=\"brg\"\n",
    ")\n",
    "\n",
    "partition3 = Partition(graph, assignment1)\n",
    "        \n",
    "##...COMPUTE SPLITTING SCORE HERE..."
   ]
  },
  {
   "cell_type": "markdown",
   "metadata": {},
   "source": [
    "### 4. Taking nibbles of counties"
   ]
  },
  {
   "cell_type": "code",
   "execution_count": 23,
   "metadata": {},
   "outputs": [
    {
     "name": "stdout",
     "output_type": "stream",
     "text": [
      "The two districts are: \n"
     ]
    },
    {
     "data": {
      "image/png": "[encoded data removed]",
      "text/plain": [
       "<Figure size 432x288 with 1 Axes>"
      ]
     },
     "metadata": {},
     "output_type": "display_data"
    }
   ],
   "source": [
    "district_matrix = np.array(\n",
    "    [\n",
    "        [0,0,0,0,0,0,0,0,1,1,1,1,1,1,1,1],\n",
    "        [0,0,0,0,0,0,0,0,0,1,1,1,1,1,1,1],\n",
    "        [0,0,0,0,0,0,0,0,1,1,1,1,1,1,1,1],\n",
    "        [0,0,0,0,0,0,0,1,1,1,1,1,1,1,1,1],\n",
    "        [0,0,0,0,0,0,0,0,1,1,1,1,1,1,1,1],\n",
    "        [0,0,0,0,0,0,0,0,1,1,1,1,1,1,1,1],\n",
    "        [0,0,0,0,0,0,0,0,1,1,1,1,1,1,1,1],\n",
    "        [0,0,0,0,0,0,0,0,1,1,1,1,1,1,1,1],\n",
    "        [0,0,0,0,0,0,0,0,1,1,1,1,1,1,1,1],\n",
    "        [0,0,0,0,0,0,0,0,1,1,1,1,1,1,1,1],\n",
    "        [0,0,0,0,0,0,0,0,1,1,1,1,1,1,1,1],\n",
    "        [0,0,0,0,0,0,0,0,1,1,1,1,1,1,1,1],\n",
    "        [0,0,0,0,0,0,0,0,0,1,1,1,1,1,1,1],\n",
    "        [0,0,0,0,0,0,0,0,1,1,1,1,1,1,1,1],\n",
    "        [0,0,0,0,0,0,0,1,1,1,1,1,1,1,1,1],\n",
    "        [0,0,0,0,0,0,0,0,1,1,1,1,1,1,1,1],\n",
    "        \n",
    "    ]\n",
    ")\n",
    "\n",
    "assignment1 = {}\n",
    "for n in graph.nodes():\n",
    "    assignment1[n] = np.transpose(district_matrix)[n[0]][n[1]]\n",
    "    \n",
    "print(\"The two districts are: \")    \n",
    "plt.figure()\n",
    "nx.draw(\n",
    "    graph,\n",
    "    pos={x: x for x in graph.nodes()},\n",
    "    node_color=[assignment1[x] for x in graph.nodes()],\n",
    "    node_size=150,\n",
    "    node_shape=\"s\",\n",
    "    cmap=\"brg\"\n",
    ")\n",
    "\n",
    "partition4 = Partition(graph, assignment1)\n",
    "        \n",
    "##...COMPUTE SPLITTING SCORE HERE..."
   ]
  },
  {
   "cell_type": "markdown",
   "metadata": {},
   "source": [
    "### Add your own!"
   ]
  },
  {
   "cell_type": "code",
   "execution_count": null,
   "metadata": {},
   "outputs": [],
   "source": []
  }
 ],
 "metadata": {
  "kernelspec": {
   "display_name": "Python 3",
   "language": "python",
   "name": "python3"
  },
  "language_info": {
   "codemirror_mode": {
    "name": "ipython",
    "version": 3
   },
   "file_extension": ".py",
   "mimetype": "text/x-python",
   "name": "python",
   "nbconvert_exporter": "python",
   "pygments_lexer": "ipython3",
   "version": "3.7.3"
  }
 },
 "nbformat": 4,
 "nbformat_minor": 2
}
