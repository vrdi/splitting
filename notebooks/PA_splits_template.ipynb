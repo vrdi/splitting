{
 "cells": [
  {
   "cell_type": "code",
   "execution_count": null,
   "metadata": {},
   "outputs": [],
   "source": [
    "# Imports\n",
    "\n",
    "import os\n",
    "\n",
    "from gerrychain import Graph, GeographicPartition, Partition, Election\n",
    "from gerrychain.updaters import Tally, cut_edges\n",
    "import geopandas as gpd\n",
    "import numpy as np\n",
    "from gerrychain.random import random\n",
    "import copy\n",
    "\n",
    "from gerrychain import MarkovChain\n",
    "from gerrychain.constraints import single_flip_contiguous\n",
    "from gerrychain.proposals import propose_random_flip\n",
    "from gerrychain.accept import always_accept\n",
    "from gerrychain.metrics import polsby_popper\n",
    "from gerrychain import constraints\n",
    "from gerrychain.constraints import no_vanishing_districts\n",
    "\n",
    "from collections import defaultdict, Counter\n",
    "\n",
    "import matplotlib.pyplot as plt\n",
    "\n",
    "import networkx as nx\n",
    "\n",
    "import pandas\n",
    "\n",
    "import math\n",
    "\n",
    "#from IPython.display import clear_output\n",
    "\n",
    "from functools import partial\n"
   ]
  },
  {
   "cell_type": "code",
   "execution_count": null,
   "metadata": {},
   "outputs": [],
   "source": [
    "# setup -- SLOW\n",
    "\n",
    "shapefile = \"https://github.com/mggg-states/PA-shapefiles/raw/master/PA/PA_VTD.zip\"\n",
    "\n",
    "df = gpd.read_file(shapefile)\n",
    "\n",
    "county_col = \"COUNTYFP10\"\n",
    "pop_col = \"TOT_POP\"\n",
    "uid = \"GEOID10\"\n",
    "\n",
    "\n",
    "graph = Graph.from_geodataframe(df,ignore_errors=True)\n",
    "graph.add_data(df,list(df))\n",
    "graph = nx.relabel_nodes(graph, df[uid])\n",
    "counties = (set(list(df[county_col])))\n",
    "countydict = dict(graph.nodes(data=county_col))"
   ]
  },
  {
   "cell_type": "code",
   "execution_count": null,
   "metadata": {},
   "outputs": [],
   "source": [
    "starting_partition = GeographicPartition(\n",
    "    graph,\n",
    "    assignment=\"GOV\",\n",
    "    updaters={\n",
    "        \"polsby_popper\" : polsby_popper,\n",
    "        \"cut_edges\": cut_edges,\n",
    "        \"population\": Tally(pop_col, alias=\"population\"),\n",
    "\n",
    "    }\n",
    ")"
   ]
  },
  {
   "cell_type": "code",
   "execution_count": null,
   "metadata": {},
   "outputs": [],
   "source": [
    "def county_splits_dict(partition):\n",
    "    ''' returns a dictionary with keys as district numbers and values Counter() dictionaries\n",
    "        these counter dictionaries have pairs COUNTY_ID : NUM which counts the number of VTDS\n",
    "        in the county in the district\n",
    "        \n",
    "    '''\n",
    "    \n",
    "    county_splits = {k:[] for k in counties}\n",
    "    county_splits = {  k:[countydict[v] for v in d] for k,d in partition.assignment.parts.items()   }\n",
    "    county_splits = {k: Counter(v) for k,v in county_splits.items()}\n",
    "    return county_splits"
   ]
  },
  {
   "cell_type": "code",
   "execution_count": null,
   "metadata": {},
   "outputs": [],
   "source": [
    "d = county_splits_dict(starting_partition)\n",
    "sum( [ len([ dd for dd  in [dict(v) for v in d.values()] if k in dd.keys()]) > 1 for k in counties] )"
   ]
  }
 ],
 "metadata": {
  "kernelspec": {
   "display_name": "Python 3",
   "language": "python",
   "name": "python3"
  },
  "language_info": {
   "codemirror_mode": {
    "name": "ipython",
    "version": 3
   },
   "file_extension": ".py",
   "mimetype": "text/x-python",
   "name": "python",
   "nbconvert_exporter": "python",
   "pygments_lexer": "ipython3",
   "version": "3.7.3"
  }
 },
 "nbformat": 4,
 "nbformat_minor": 2
}
